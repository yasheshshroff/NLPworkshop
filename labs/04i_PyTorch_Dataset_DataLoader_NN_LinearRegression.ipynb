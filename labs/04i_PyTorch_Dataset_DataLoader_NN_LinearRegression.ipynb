{
 "cells": [
  {
   "cell_type": "markdown",
   "id": "202c00f6-698d-4ab6-ada4-2bd44acbacb3",
   "metadata": {},
   "source": [
    "# Dataset, DataLoader, Linear Regression model"
   ]
  },
  {
   "cell_type": "code",
   "execution_count": 1,
   "id": "60816e64-2c23-4409-9646-adec20835016",
   "metadata": {},
   "outputs": [],
   "source": [
    "from sklearn.datasets import make_classification\n",
    "import torch\n",
    "import torch.utils.data.dataloader as DataLoader\n",
    "from sklearn.model_selection import train_test_split"
   ]
  },
  {
   "cell_type": "code",
   "execution_count": 2,
   "id": "eb797607-6c5e-4e3d-918c-5ab58092f81a",
   "metadata": {},
   "outputs": [],
   "source": [
    "# Set as appropriate\n",
    "verbose = True"
   ]
  },
  {
   "cell_type": "code",
   "execution_count": 3,
   "id": "6dc0abe7-b5f9-4eaa-b14c-fc7dd23c3d0a",
   "metadata": {},
   "outputs": [],
   "source": [
    "class CustomDataset:\n",
    "    def __init__(self, data, targets):\n",
    "        self.data = data\n",
    "        self.targets = targets\n",
    "        \n",
    "    def __len__(self):\n",
    "        return self.data.shape[0] # len(self.data) also works\n",
    "    \n",
    "    def __getitem__(self, idx):\n",
    "        custom_data = self.data[idx,:]\n",
    "        custom_targets = self.targets[idx]\n",
    "        return {\"x\": torch.tensor(custom_data, dtype=torch.float), \n",
    "                \"y\": torch.tensor(custom_targets, dtype=torch.long)\n",
    "               }"
   ]
  },
  {
   "cell_type": "code",
   "execution_count": 4,
   "id": "f7340822-076d-46e8-b064-8874a906a611",
   "metadata": {},
   "outputs": [],
   "source": [
    "# Generate dataset \n",
    "data, targets = make_classification(n_samples = 1000)"
   ]
  },
  {
   "cell_type": "code",
   "execution_count": 7,
   "id": "209bb6cd-9790-4de0-b7c2-aa2523512a42",
   "metadata": {},
   "outputs": [
    {
     "name": "stdout",
     "output_type": "stream",
     "text": [
      "len(data)=1000, len(targets)=1000, len(train_data)=750, len(train_targets)=750, len(test_data)=250, len(test_targets)=250\n"
     ]
    }
   ],
   "source": [
    "# split the dataset into train and test components\n",
    "train_data, test_data, train_targets, test_targets = train_test_split(\n",
    "    data, targets, test_size=0.25, random_state=42)\n",
    "\n",
    "if verbose:\n",
    "    print(f\"{len(data)=}, {len(targets)=}, {len(train_data)=}, {len(train_targets)=}, {len(test_data)=}, {len(test_targets)=}\")"
   ]
  },
  {
   "cell_type": "code",
   "execution_count": 18,
   "id": "9c612186-ccc8-4fbe-9183-bdb97f1c5a31",
   "metadata": {},
   "outputs": [
    {
     "name": "stdout",
     "output_type": "stream",
     "text": [
      "Try out len and indexing to make sure it's working as expected\n",
      "len(train_dataset)=750\n",
      "train_dataset[2]={'x': tensor([ 1.5046, -1.5677,  0.3045,  1.6613, -1.0563, -2.1789, -0.5665,  0.1256,\n",
      "         0.5439, -1.1231,  1.2163, -0.9576,  0.5075,  1.0512,  0.6561,  0.9320,\n",
      "         2.1674,  0.6796, -1.0860, -0.9167]), 'y': tensor(1)}\n"
     ]
    }
   ],
   "source": [
    "# Create our custom datasets that can be called by DataLoader\n",
    "train_dataset = CustomDataset(train_data, train_targets)\n",
    "test_dataset = CustomDataset(test_data, test_targets)\n",
    "\n",
    "if (verbose):\n",
    "    print(\"Try out len and indexing to make sure it's working as expected\")\n",
    "    print(f\"{len(train_dataset)=}\")\n",
    "    print(f\"{train_dataset[2]=}\")"
   ]
  },
  {
   "cell_type": "markdown",
   "id": "3f101ad3-a618-47b5-b7e5-8bae0d2a36e6",
   "metadata": {},
   "source": [
    "## DataLoader\n",
    "\n",
    "`DataLoader` from `torch.utils.data` makes it possible to train in batches.\n",
    "\n",
    "The following code errors out with `num_workers` > 0. Choose something like 2 for colab."
   ]
  },
  {
   "cell_type": "code",
   "execution_count": 28,
   "id": "080408ff-d30f-43b3-8b74-58c3e17c63d8",
   "metadata": {},
   "outputs": [],
   "source": [
    "train_dataloader = torch.utils.data.DataLoader(train_dataset, batch_size=4, num_workers=0)\n",
    "test_dataloader  = torch.utils.data.DataLoader(test_dataset,  batch_size=4, num_workers=0)"
   ]
  },
  {
   "cell_type": "code",
   "execution_count": 29,
   "id": "1d256225-a132-4f11-b433-6ffa9654b51e",
   "metadata": {},
   "outputs": [],
   "source": [
    "# Create the weights matrix and bias vector\n",
    "W = torch.randn((20,1), requires_grad=True)\n",
    "b = torch.randn((1,), requires_grad=True)\n",
    "learning_rate = 0.001"
   ]
  },
  {
   "cell_type": "code",
   "execution_count": 30,
   "id": "e4429607-aac5-4a0d-9451-c64fe5c03063",
   "metadata": {},
   "outputs": [],
   "source": [
    "model = lambda x, W, b: torch.matmul(x, W) + b"
   ]
  },
  {
   "cell_type": "code",
   "execution_count": 33,
   "id": "ef197db7-63ba-4643-8616-acf803c88b43",
   "metadata": {},
   "outputs": [
    {
     "name": "stdout",
     "output_type": "stream",
     "text": [
      "0: 0.12359994951328461\n",
      "1: 0.12359994895845414\n",
      "2: 0.12359994942906927\n",
      "3: 0.12359994872562349\n",
      "4: 0.12359994995913053\n",
      "5: 0.12359994940677697\n",
      "6: 0.12359995066753014\n",
      "7: 0.12359994874543886\n",
      "8: 0.12359994916156172\n",
      "9: 0.1235999494092539\n"
     ]
    }
   ],
   "source": [
    "for epoch in range(10):\n",
    "    epoch_loss = 0\n",
    "    counter = 0\n",
    "    for data in train_dataloader:\n",
    "        x = data[\"x\"]\n",
    "        y = data[\"y\"]\n",
    "        output = model(x, W, b)\n",
    "        loss = torch.mean((output.view(-1)-y.view(-1))**2)\n",
    "        loss.backward()\n",
    "        with torch.no_grad():\n",
    "            W = W - learning_rate*W.grad\n",
    "            b = b - learning_rate*b.grad\n",
    "        W.requires_grad = True\n",
    "        b.requires_grad = True\n",
    "        epoch_loss += loss.item() \n",
    "        counter += 1\n",
    "    print(f\"{epoch}: {epoch_loss/counter}\")"
   ]
  },
  {
   "cell_type": "code",
   "execution_count": null,
   "id": "df6476cb-fc3c-423a-82fa-51ac8d8df551",
   "metadata": {},
   "outputs": [],
   "source": []
  }
 ],
 "metadata": {
  "kernelspec": {
   "display_name": "Python 3 (ipykernel)",
   "language": "python",
   "name": "python3"
  },
  "language_info": {
   "codemirror_mode": {
    "name": "ipython",
    "version": 3
   },
   "file_extension": ".py",
   "mimetype": "text/x-python",
   "name": "python",
   "nbconvert_exporter": "python",
   "pygments_lexer": "ipython3",
   "version": "3.10.0"
  }
 },
 "nbformat": 4,
 "nbformat_minor": 5
}
